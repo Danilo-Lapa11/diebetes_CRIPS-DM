{
 "cells": [
  {
   "cell_type": "code",
   "execution_count": 123,
   "metadata": {},
   "outputs": [],
   "source": [
    "import pandas as pd\n",
    "import numpy as np\n",
    "import matplotlib.pyplot as plt\n",
    "\n",
    "from sklearn.base import BaseEstimator, TransformerMixin"
   ]
  },
  {
   "cell_type": "code",
   "execution_count": null,
   "metadata": {},
   "outputs": [
    {
     "data": {
      "text/plain": [
       "(81412, 50)"
      ]
     },
     "execution_count": 124,
     "metadata": {},
     "output_type": "execute_result"
    }
   ],
   "source": [
    "try:\n",
    "    train_set\n",
    "except:\n",
    "    train_set = pd.read_csv(\"data/diabetes_train_set.csv\")\n",
    "    \n",
    "train_set.shape"
   ]
  },
  {
   "cell_type": "code",
   "execution_count": 135,
   "metadata": {},
   "outputs": [],
   "source": [
    "diabetes = train_set.copy()"
   ]
  },
  {
   "cell_type": "code",
   "execution_count": 144,
   "metadata": {},
   "outputs": [
    {
     "name": "stdout",
     "output_type": "stream",
     "text": [
      "admission_type_id\n",
      "1.0    43139\n",
      "3.0    15133\n",
      "2.0    14839\n",
      "6.0     4233\n",
      "5.0     3784\n",
      "8.0      265\n",
      "7.0       10\n",
      "4.0        9\n",
      "Name: count, dtype: int64\n",
      "discharge_disposition_id\n",
      "1.0     48175\n",
      "3.0     11191\n",
      "6.0     10290\n",
      "18.0     2958\n",
      "2.0      1685\n",
      "22.0     1585\n",
      "11.0     1322\n",
      "5.0       958\n",
      "25.0      811\n",
      "4.0       652\n",
      "7.0       509\n",
      "23.0      327\n",
      "13.0      313\n",
      "14.0      299\n",
      "28.0      113\n",
      "8.0        86\n",
      "15.0       47\n",
      "24.0       40\n",
      "9.0        16\n",
      "17.0       10\n",
      "16.0        9\n",
      "19.0        6\n",
      "10.0        4\n",
      "27.0        3\n",
      "12.0        2\n",
      "20.0        1\n",
      "Name: count, dtype: int64\n",
      "admission_source_id\n",
      "7.0     45966\n",
      "1.0     23668\n",
      "17.0     5376\n",
      "4.0      2589\n",
      "6.0      1829\n",
      "2.0       892\n",
      "5.0       685\n",
      "3.0       149\n",
      "20.0      127\n",
      "9.0        98\n",
      "8.0        14\n",
      "22.0        8\n",
      "10.0        5\n",
      "11.0        2\n",
      "14.0        2\n",
      "25.0        1\n",
      "13.0        1\n",
      "Name: count, dtype: int64\n",
      "medical_specialty\n",
      "?                         39948\n",
      "InternalMedicine          11648\n",
      "Emergency/Trauma           6059\n",
      "Family/GeneralPractice     5913\n",
      "Cardiology                 4362\n",
      "                          ...  \n",
      "Speech                        1\n",
      "Perinatology                  1\n",
      "Proctology                    1\n",
      "Neurophysiology               1\n",
      "Dermatology                   1\n",
      "Name: count, Length: 69, dtype: int64\n"
     ]
    },
    {
     "data": {
      "image/png": "[encoded data removed]",
      "text/plain": [
       "<Figure size 640x480 with 4 Axes>"
      ]
     },
     "metadata": {},
     "output_type": "display_data"
    }
   ],
   "source": [
    "print(diabetes[\"admission_type_id\"].value_counts())\n",
    "print(diabetes[\"discharge_disposition_id\"].value_counts())\n",
    "print(diabetes[\"admission_source_id\"].value_counts())\n",
    "print(diabetes[\"medical_specialty\"].value_counts())\n",
    "\n",
    "diabetes[\n",
    "    [\n",
    "        \"admission_type_id\",\n",
    "        \"discharge_disposition_id\",\n",
    "        \"admission_source_id\",\n",
    "        \"medical_specialty\",\n",
    "    ]\n",
    "].hist(bins=50)\n",
    "plt.show()"
   ]
  },
  {
   "cell_type": "markdown",
   "metadata": {},
   "source": [
    "____"
   ]
  },
  {
   "cell_type": "code",
   "execution_count": 208,
   "metadata": {},
   "outputs": [
    {
     "data": {
      "text/plain": [
       "(81412, 49)"
      ]
     },
     "execution_count": 208,
     "metadata": {},
     "output_type": "execute_result"
    }
   ],
   "source": [
    "diabetes = train_set.drop(\"readmitted\", axis=1)\n",
    "diabetes_labels = train_set[\"readmitted\"].copy()\n",
    "diabetes.shape"
   ]
  },
  {
   "cell_type": "code",
   "execution_count": 133,
   "metadata": {},
   "outputs": [
    {
     "name": "stdout",
     "output_type": "stream",
     "text": [
      "Colunas com valores numéricos: \n",
      " ['encounter_id', 'patient_nbr', 'admission_type_id', 'discharge_disposition_id', 'admission_source_id', 'time_in_hospital', 'num_lab_procedures', 'num_procedures', 'num_medications', 'number_outpatient', 'number_emergency', 'number_inpatient', 'number_diagnoses'] \n",
      "\n",
      "Colunas com valores categóricos: \n",
      " ['race', 'gender', 'age', 'diag_1', 'diag_2', 'diag_3', 'metformin', 'repaglinide', 'nateglinide', 'chlorpropamide', 'glimepiride', 'acetohexamide', 'glipizide', 'glyburide', 'tolbutamide', 'pioglitazone', 'rosiglitazone', 'acarbose', 'miglitol', 'tolazamide', 'insulin', 'glyburide.metformin', 'glipizide.metformin', 'glimepiride.pioglitazone', 'metformin.pioglitazone', 'change', 'diabetesMed'] \n",
      "\n"
     ]
    }
   ],
   "source": [
    "# Colunas com valores numéricos\n",
    "print(\"Colunas com valores numéricos:\", \"\\n\", diabetes.select_dtypes(\"float64\").columns.to_list(), \"\\n\")\n",
    "\n",
    "# Colunas com valores categóricos\n",
    "print(\"Colunas com valores categóricos:\", \"\\n\", diabetes.select_dtypes(\"object\").columns.to_list(), \"\\n\")"
   ]
  },
  {
   "cell_type": "code",
   "execution_count": null,
   "metadata": {},
   "outputs": [
    {
     "data": {
      "text/plain": [
       "['max_glu_serum', 'A1Cresult', 'weight', 'payer_code', 'medical_specialty']"
      ]
     },
     "execution_count": 127,
     "metadata": {},
     "output_type": "execute_result"
    }
   ],
   "source": [
    "# Fit\n",
    "\n",
    "threshold = 0.2\n",
    "null_mean = diabetes.isnull().mean()\n",
    "null_columns = null_mean[null_mean > threshold].index.to_list()\n",
    "\n",
    "null_mean = []\n",
    "for col in diabetes.columns:\n",
    "    mean = diabetes[diabetes[col] == '?'].shape[0] / diabetes.shape[0]\n",
    "    if mean > threshold:\n",
    "        null_columns.append(col)\n",
    "\n",
    "null_columns"
   ]
  },
  {
   "cell_type": "code",
   "execution_count": 128,
   "metadata": {},
   "outputs": [],
   "source": [
    "# Transform\n",
    "\n",
    "# Remoção de colunas com muitos atributos núlos:\n",
    "diabetes = diabetes.drop(null_columns, axis = 1)"
   ]
  },
  {
   "cell_type": "code",
   "execution_count": null,
   "metadata": {},
   "outputs": [
    {
     "data": {
      "text/plain": [
       "(78430, 44)"
      ]
     },
     "execution_count": 129,
     "metadata": {},
     "output_type": "execute_result"
    }
   ],
   "source": [
    "# Transform\n",
    "\n",
    "# Removendo registros com valores nulos\n",
    "\n",
    "diabetes.dropna(inplace=True)\n",
    "\n",
    "diabetes = diabetes[diabetes[\"diag_1\"] != \"?\"]\n",
    "diabetes = diabetes[diabetes[\"diag_2\"] != \"?\"]\n",
    "diabetes = diabetes[diabetes[\"diag_3\"] != \"?\"]\n",
    "diabetes = diabetes[diabetes[\"race\"] != \"?\"]\n",
    "diabetes = diabetes[diabetes[\"gender\"] != \"Unknown/Invalid\"]\n",
    "\n",
    "diabetes.shape"
   ]
  },
  {
   "cell_type": "code",
   "execution_count": 130,
   "metadata": {},
   "outputs": [
    {
     "data": {
      "text/plain": [
       "['troglitazone', 'examide', 'citoglipton', 'metformin.rosiglitazone']"
      ]
     },
     "execution_count": 130,
     "metadata": {},
     "output_type": "execute_result"
    }
   ],
   "source": [
    "# Fit\n",
    "\n",
    "# Verifica quais são as colunas com apenas um valor\n",
    "diabetes.loc[:, diabetes.nunique() == 1].columns.to_list()\n"
   ]
  },
  {
   "cell_type": "code",
   "execution_count": 131,
   "metadata": {},
   "outputs": [
    {
     "data": {
      "text/plain": [
       "(78430, 40)"
      ]
     },
     "execution_count": 131,
     "metadata": {},
     "output_type": "execute_result"
    }
   ],
   "source": [
    "# Transform\n",
    "\n",
    "diabetes = diabetes.loc[:, diabetes.nunique() != 1]\n",
    "diabetes.shape"
   ]
  },
  {
   "cell_type": "markdown",
   "metadata": {},
   "source": [
    "# Feature Engineering"
   ]
  },
  {
   "cell_type": "code",
   "execution_count": null,
   "metadata": {},
   "outputs": [],
   "source": [
    "class GroupUncommon1HotEncoder(BaseEstimator, TransformerMixin):\n",
    "    def __init__(self, attributes: list[str], threshold: float = 0.02):\n",
    "        \"\"\"\n",
    "        Parâmetros:\n",
    "            attributes: Lista das colunas a serem transformadas.\n",
    "            threshold: Frequência mínima para que um valor seja considerado frequente.\n",
    "        \"\"\"\n",
    "        self.attributes = attributes\n",
    "        self.threshold = threshold\n",
    "\n",
    "    def fit(self, X, y=None):\n",
    "        # Dicionário para salvar os valores frequentes de cada coluna\n",
    "        self.frequent_values_ = {}\n",
    "        for col in self.attributes:\n",
    "            # Calcula a frequência relativa dos valores\n",
    "            value_counts = X[col].value_counts(normalize=True)\n",
    "            # Seleciona os valores cuja frequência é maior ou igual ao threshold\n",
    "            self.frequent_values_[col] = value_counts[\n",
    "                value_counts >= self.threshold\n",
    "            ].index.tolist()\n",
    "        return self\n",
    "\n",
    "    def transform(self, X):\n",
    "        X = X.copy()  # Evita modificar o DataFrame original\n",
    "        encoded_dfs = []  # Lista para armazenar os DataFrames one-hot encoded\n",
    "\n",
    "        for col in self.attributes:\n",
    "            # Obtém os valores frequentes para a coluna atual\n",
    "            frequent = self.frequent_values_.get(col, [])\n",
    "            # Substitui os valores raros por \"Outros\"\n",
    "            X[col] = X[col].apply(lambda x: x if x in frequent else \"Others\")\n",
    "            # Realiza o one-hot encoding usando pd.get_dummies\n",
    "            dummies = pd.get_dummies(X[col], prefix=col)\n",
    "            encoded_dfs.append(dummies)\n",
    "            # Remove a coluna original, pois ela será substituída pelas dummies\n",
    "            X = X.drop(columns=[col])\n",
    "\n",
    "        # Concatena os dummies com o DataFrame original (com as demais colunas)\n",
    "        X_transformed = pd.concat([X] + encoded_dfs, axis=1)\n",
    "        return X_transformed"
   ]
  },
  {
   "cell_type": "code",
   "execution_count": 132,
   "metadata": {},
   "outputs": [],
   "source": [
    "class ColumnSelector(BaseEstimator, TransformerMixin):\n",
    "    def __init__(self, attribute_names: list[str]):\n",
    "        self.attribute_names = attribute_names\n",
    "        pass\n",
    "    def fit(self, X: pd.DataFrame, y: pd.DataFrame=None):\n",
    "        return self\n",
    "    def transform(self, X: pd.DataFrame) -> pd.DataFrame:\n",
    "        return X[self.attribute_names]\n",
    "\n",
    "class RemoveNulls(BaseEstimator, TransformerMixin):\n",
    "    def __init__(self):\n",
    "        pass\n",
    "    def fit(self, X: pd.DataFrame, y: pd.DataFrame=None):\n",
    "        return self\n",
    "    def transform(self, X: pd.DataFrame) -> pd.DataFrame:\n",
    "        return X.dropna()\n",
    "\n",
    "class FeatureEngineering(BaseEstimator, TransformerMixin):\n",
    "    \"\"\"\n",
    "    Dummy Implementation\n",
    "    \"\"\"\n",
    "    \n",
    "    def __init__(self):\n",
    "        pass\n",
    "    def fit(self, X: pd.DataFrame, y: pd.DataFrame=None):\n",
    "        return self\n",
    "    def transform(self, X: pd.DataFrame) -> pd.DataFrame:\n",
    "        return X"
   ]
  },
  {
   "cell_type": "code",
   "execution_count": null,
   "metadata": {},
   "outputs": [],
   "source": []
  }
 ],
 "metadata": {
  "kernelspec": {
   "display_name": ".venv",
   "language": "python",
   "name": "python3"
  },
  "language_info": {
   "codemirror_mode": {
    "name": "ipython",
    "version": 3
   },
   "file_extension": ".py",
   "mimetype": "text/x-python",
   "name": "python",
   "nbconvert_exporter": "python",
   "pygments_lexer": "ipython3",
   "version": "3.13.2"
  }
 },
 "nbformat": 4,
 "nbformat_minor": 2
}
